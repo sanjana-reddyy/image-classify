{
  "nbformat": 4,
  "nbformat_minor": 0,
  "metadata": {
    "colab": {
      "provenance": []
    },
    "kernelspec": {
      "name": "python3",
      "display_name": "Python 3"
    },
    "language_info": {
      "name": "python"
    }
  },
  "cells": [
    {
      "cell_type": "code",
      "execution_count": null,
      "metadata": {
        "id": "xjwYZwJXZtK8"
      },
      "outputs": [],
      "source": [
        "#CNN\n",
        "from keras.models import load_model\n",
        "model = load_model('./catsvsdogs.h5')"
      ]
    },
    {
      "cell_type": "code",
      "source": [
        "#filename=\"../input/dogss-test/images.jpg\"\n",
        "filename=\"../input/catsdogs/c3.jpg\"\n",
        "result=predict_images(filename)\n",
        "if(result==0.):\n",
        "    print(\"cat\")\n",
        "else :\n",
        "    print(\"dog\")"
      ],
      "metadata": {
        "id": "1HZtp-qlZz0E"
      },
      "execution_count": null,
      "outputs": []
    },
    {
      "cell_type": "code",
      "source": [
        "filename=\"../input/catsdogs/c6.jpg\"\n",
        "result=predict_images(filename)\n",
        "if(result==0.):\n",
        "    print(\"cat\")\n",
        "else :\n",
        "    print(\"dog\")"
      ],
      "metadata": {
        "id": "gG6JHWW0Z2n3"
      },
      "execution_count": null,
      "outputs": []
    }
  ]
}