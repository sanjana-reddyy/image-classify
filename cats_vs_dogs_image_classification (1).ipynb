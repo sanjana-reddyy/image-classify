{
  "cells": [
    {
      "metadata": {
        "_uuid": "8f2839f25d086af736a60e9eeb907d3b93b6e0e5",
        "_cell_guid": "b1076dfc-b9ad-4769-8c92-a6c4dae69d19",
        "trusted": true,
        "id": "Dx6te_RkKf6a"
      },
      "cell_type": "code",
      "source": [
        "\n",
        "\n",
        "import numpy as np # linear algebra\n",
        "import pandas as pd # data processing, CSV file I/O (e.g. pd.read_csv)\n",
        "import os\n",
        ""
      ],
      "execution_count": null,
      "outputs": []
    },
    {
      "metadata": {
        "trusted": true,
        "id": "mYYt2Jn-Kf6h"
      },
      "cell_type": "code",
      "source": [
        "import os\n",
        "labels = []\n",
        "for i in os.listdir('../input/dogs-cats-images/dataset/training_set/cats'):\n",
        "    labels.append(0)\n",
        "for i in os.listdir('../input/dogs-cats-images/dataset/training_set/dogs'):\n",
        "    labels.append(1)"
      ],
      "execution_count": null,
      "outputs": []
    },
    {
      "metadata": {
        "trusted": true,
        "id": "0Tdbyyk9Kf6j"
      },
      "cell_type": "code",
      "source": [
        "import cv2\n",
        "loc1 = '../input/dogs-cats-images/dataset/training_set/cats'\n",
        "loc2 = '../input/dogs-cats-images/dataset/training_set/dogs'\n",
        "features = []\n",
        "from tqdm import tqdm\n",
        "for i in tqdm(os.listdir(loc1)):\n",
        "    f1 = cv2.imread(os.path.join(loc1,i))\n",
        "    f1 = cv2.resize(f1,(100,100))\n",
        "    features.append(f1)\n",
        "\n",
        "for i in tqdm(os.listdir(loc2)):\n",
        "    f2 = cv2.imread(os.path.join(loc2,i))\n",
        "    f2 = cv2.resize(f2,(100,100))\n",
        "    features.append(f2)"
      ],
      "execution_count": null,
      "outputs": []
    },
    {
      "metadata": {
        "_uuid": "d629ff2d2480ee46fbb7e2d37f6b5fab8052498a",
        "_cell_guid": "79c7e3d0-c299-4dcb-8224-4455121ee9b0",
        "trusted": true,
        "id": "lmAWgRvGKf6k"
      },
      "cell_type": "code",
      "source": [
        "from keras import layers, models, optimizers\n",
        "\n",
        "model = models.Sequential()\n",
        "model.add(layers.Conv2D(32, (3, 3), activation='relu', input_shape=(100, 100, 3)))\n",
        "model.add(layers.MaxPool2D(2, 2))\n",
        "model.add(layers.Conv2D(64, (3, 3), activation='relu'))\n",
        "model.add(layers.MaxPool2D(2, 2))\n",
        "model.add(layers.Conv2D(128, (3, 3), activation='relu'))\n",
        "model.add(layers.MaxPool2D(2, 2))\n",
        "model.add(layers.Conv2D(128, (3, 3), activation='relu'))\n",
        "model.add(layers.MaxPool2D(2, 2))\n",
        "model.add(layers.Flatten())\n",
        "model.add(layers.Dropout(0.5))\n",
        "model.add(layers.Dense(512, activation='relu'))\n",
        "model.add(layers.Dense(1, activation='sigmoid'))\n",
        "\n",
        "model.compile(loss='binary_crossentropy',\n",
        "              optimizer=optimizers.RMSprop(lr=1e-4),\n",
        "              metrics=['acc'])\n",
        "model.summary()"
      ],
      "execution_count": null,
      "outputs": []
    },
    {
      "metadata": {
        "trusted": true,
        "id": "KA3lDH9gKf6l"
      },
      "cell_type": "code",
      "source": [
        "from keras.preprocessing.image import ImageDataGenerator\n",
        "\n",
        "# Rescale pixel values from [0, 255] to [0, 1]\n",
        "train_datagen = ImageDataGenerator(rescale=1./255)\n",
        "test_datagen = ImageDataGenerator(rescale=1./255)\n",
        "\n",
        "\n",
        "train_generator = train_datagen.flow_from_directory(\n",
        "    \"../input/dogs-cats-images/dataset/training_set/\",\n",
        "    target_size=(100, 100),\n",
        "    batch_size=50,\n",
        "    class_mode='binary') # because we use binary_crossentropy loss we need binary labels\n",
        "\n",
        "validation_generator = test_datagen.flow_from_directory(\n",
        "    \"../input/dogs-cats-images/dataset/test_set/\",\n",
        "    target_size=(100, 100),\n",
        "    batch_size=50,\n",
        "    class_mode='binary')"
      ],
      "execution_count": null,
      "outputs": []
    },
    {
      "metadata": {
        "trusted": true,
        "id": "Lw2fT2qAKf6m"
      },
      "cell_type": "code",
      "source": [
        "history = model.fit_generator(\n",
        "    train_generator,\n",
        "    steps_per_epoch=160,\n",
        "    epochs=20,\n",
        "    validation_data=validation_generator,\n",
        "    validation_steps=40) # 40 x 50 == 2000"
      ],
      "execution_count": null,
      "outputs": []
    },
    {
      "metadata": {
        "trusted": true,
        "id": "hDBG1a0yKf6n"
      },
      "cell_type": "code",
      "source": [
        "import matplotlib.pyplot as plt\n",
        "\n",
        "def plot_accuracy_and_loss(history):\n",
        "    acc = history.history['acc']\n",
        "    val_acc = history.history['val_acc']\n",
        "    loss = history.history['loss']\n",
        "    val_loss = history.history['val_loss']\n",
        "\n",
        "    epochs = range(1, len(acc) + 1)\n",
        "\n",
        "    plt.plot(epochs, acc, 'bo', label='Training acc')\n",
        "    plt.plot(epochs, val_acc, 'b', label='Validation acc')\n",
        "    plt.title('Training and validation accuracy')\n",
        "    plt.legend()\n",
        "    plt.show()\n",
        "\n",
        "    plt.plot(epochs, loss, 'bo', label='Training loss')\n",
        "    plt.plot(epochs, val_loss, 'b', label='Validation loss')\n",
        "    plt.title('Training and validation loss')\n",
        "    plt.legend()\n",
        "    plt.show()"
      ],
      "execution_count": null,
      "outputs": []
    },
    {
      "metadata": {
        "trusted": true,
        "id": "uRgFobtsKf6o"
      },
      "cell_type": "code",
      "source": [
        "plot_accuracy_and_loss(history)\n"
      ],
      "execution_count": null,
      "outputs": []
    },
    {
      "metadata": {
        "trusted": true,
        "id": "4QmqTqOgKf6o"
      },
      "cell_type": "code",
      "source": [
        "test_generator = test_datagen.flow_from_directory(\n",
        "    \"../input/dogs-cats-images/dataset/test_set/\",\n",
        "    target_size=(100, 100),\n",
        "    batch_size=50,\n",
        "    class_mode='binary')\n",
        "\n",
        "test_loss, test_acc = model.evaluate_generator(test_generator, steps=40)\n",
        "print('test acc:', test_acc)"
      ],
      "execution_count": null,
      "outputs": []
    },
    {
      "metadata": {
        "trusted": true,
        "id": "rzxUaK_rKf6q"
      },
      "cell_type": "code",
      "source": [
        "from keras.preprocessing.image import load_img\n",
        "from keras.preprocessing.image import img_to_array\n",
        "from keras.models import load_model\n",
        "import matplotlib.pyplot as plt\n",
        "\n",
        "#filename=\"../input/dogss-test/images.jpg\"\n",
        "def predict_images(filename):\n",
        "    img = load_img(filename, target_size=(100, 100))\n",
        "    plt.imshow(img)\n",
        "    plt.show()\n",
        "    img = img_to_array(img)\n",
        "\n",
        "    img = img.reshape(1, 100, 100, 3)\n",
        "\n",
        "    img = img.astype('float32')\n",
        "    img = img - [123.68, 116.779, 103.939]\n",
        "\n",
        "    result = model.predict(img)\n",
        "    return result\n",
        "\n",
        "\n",
        "\n"
      ],
      "execution_count": null,
      "outputs": []
    },
    {
      "metadata": {
        "trusted": true,
        "id": "hK9AoeoBKf6r"
      },
      "cell_type": "code",
      "source": [
        "filename=\"../input/dogss-test/images.jpg\"\n",
        "result=predict_images(filename)\n",
        "if(result==0.):\n",
        "        print(\"cat\")\n",
        "else :\n",
        "        print(\"dog\")\n"
      ],
      "execution_count": null,
      "outputs": []
    },
    {
      "metadata": {
        "trusted": true,
        "id": "Rmu1E_0dKf6s"
      },
      "cell_type": "code",
      "source": [
        "from matplotlib import pyplot\n",
        "from matplotlib.image import imread\n",
        "# define location of dataset\n",
        "#folder = '../input/catsdogs/'\n",
        "# plot first few images\n",
        "#for i in range(7):\n",
        "\n",
        "   # filename = folder + 'c' + str(i+1) + '.jpg'\n",
        "filename=\"../input/catsdogs/c1.jpg\"\n",
        "result=predict_images(filename)\n",
        "if(result==0.):\n",
        "    print(\"cat\")\n",
        "else :\n",
        "    print(\"dog\")\n",
        "\n",
        "\n",
        ""
      ],
      "execution_count": null,
      "outputs": []
    },
    {
      "metadata": {
        "trusted": true,
        "id": "luizCa8XKf6t"
      },
      "cell_type": "code",
      "source": [
        "model.save('catsvsdogs.h5')"
      ],
      "execution_count": null,
      "outputs": []
    },
    {
      "metadata": {
        "id": "OybF7CQoKf6t"
      },
      "cell_type": "markdown",
      "source": [
        "RANDOM FOREST CLASSIFIER"
      ]
    },
    {
      "metadata": {
        "trusted": true,
        "id": "bDeD9iuqKf6w"
      },
      "cell_type": "code",
      "source": [
        "import numpy as np\n",
        "Y = np.array(labels)\n",
        "X = np.array(features)"
      ],
      "execution_count": null,
      "outputs": []
    },
    {
      "metadata": {
        "trusted": true,
        "id": "1CXL7RpzKf6x"
      },
      "cell_type": "code",
      "source": [
        "from keras.utils import np_utils\n",
        "Xt = (X - X.mean())/X.std()        #Normalised the data\n",
        "Yt = np_utils.to_categorical(Y)    #Categorical representation\n",
        "Xt = Xt.reshape(8000,30000)"
      ],
      "execution_count": null,
      "outputs": []
    },
    {
      "metadata": {
        "trusted": true,
        "id": "UM9mxVbMKf6x"
      },
      "cell_type": "code",
      "source": [
        "from sklearn.model_selection import train_test_split\n",
        "x_train,x_test,y_train,y_test = train_test_split(Xt,Yt, test_size = 0.1, random_state = 2)"
      ],
      "execution_count": null,
      "outputs": []
    },
    {
      "metadata": {
        "trusted": true,
        "id": "LkxYxdTZKf6y"
      },
      "cell_type": "code",
      "source": [
        "from sklearn.ensemble import RandomForestClassifier\n",
        "rmodel = RandomForestClassifier()"
      ],
      "execution_count": null,
      "outputs": []
    },
    {
      "metadata": {
        "trusted": true,
        "id": "KRdRFe49Kf6y"
      },
      "cell_type": "code",
      "source": [
        "rmodel.fit(x_train,y_train)"
      ],
      "execution_count": null,
      "outputs": []
    },
    {
      "metadata": {
        "trusted": true,
        "id": "mD_AUAxaKf6z"
      },
      "cell_type": "code",
      "source": [
        "print(rmodel.score(x_train,y_train))\n",
        "print(rmodel.score(x_test,y_test))"
      ],
      "execution_count": null,
      "outputs": []
    },
    {
      "metadata": {
        "trusted": true,
        "id": "fCaOHVntKf60"
      },
      "cell_type": "code",
      "source": [
        "import matplotlib.pyplot as plt\n",
        "plt.imshow(x_test[70].reshape(100,100,3))\n",
        "plt.show()"
      ],
      "execution_count": null,
      "outputs": []
    },
    {
      "metadata": {
        "trusted": true,
        "id": "pSRJQ5-sKf60"
      },
      "cell_type": "code",
      "source": [
        "p = rmodel.predict(x_test[70].reshape(1,30000))\n",
        "if(np.argmax(p)==0):\n",
        "    print(\"cat\")\n",
        "else:\n",
        "    print(\"dog\")"
      ],
      "execution_count": null,
      "outputs": []
    },
    {
      "metadata": {
        "trusted": true,
        "id": "7cjnwSpPKf61"
      },
      "cell_type": "code",
      "source": [
        "#RANDOMFORESTCLASSIFIER\n",
        "import matplotlib.pyplot as plt\n",
        "for i in range(60,65):\n",
        "    #plt.subplot(40, 40, i+1)\n",
        "    plt.imshow(x_test[i+1].reshape(100,100,3))\n",
        "\n",
        "    p = rmodel.predict(x_test[i+1].reshape(1,30000))\n",
        "    #plt.tight_layout()\n",
        "    plt.show()\n",
        "\n",
        "    if(np.argmax(p)==0):\n",
        "        #plt.xlabel(x_test[i+1] + '(' + \"{}\".format(cat) + ')' )\n",
        "        print(\"cat\")\n",
        "    else:\n",
        "        #plt.xlabel(filename + '(' + \"{}\".format(dog) + ')' )\n",
        "        print(\"dog\")\n",
        "\n",
        "\n",
        "#np.argmax(p)"
      ],
      "execution_count": null,
      "outputs": []
    },
    {
      "metadata": {
        "trusted": true,
        "id": "4P6mYCNmKf61"
      },
      "cell_type": "code",
      "source": [
        "filename=\"../input/dogss-test/images.jpg\"\n",
        "img = load_img(filename, target_size=(100, 100))\n",
        "plt.imshow(img)\n",
        "plt.show()\n",
        "img = img_to_array(img)\n",
        "\n",
        "p = rmodel.predict(img.reshape(1,30000))\n",
        "if(np.argmax(p)==0):\n",
        "    print(\"cat\")\n",
        "else:\n",
        "    print(\"dog\")"
      ],
      "execution_count": null,
      "outputs": []
    },
    {
      "metadata": {
        "id": "YgBP-gEKKf62"
      },
      "cell_type": "markdown",
      "source": [
        "CNN"
      ]
    },
    {
      "metadata": {
        "trusted": true,
        "id": "B204baN0Kf62"
      },
      "cell_type": "code",
      "source": [
        "#CNN\n",
        "from keras.models import load_model\n",
        "model = load_model('./catsvsdogs.h5')"
      ],
      "execution_count": null,
      "outputs": []
    },
    {
      "metadata": {
        "trusted": true,
        "id": "ZHNHkX3aKf63"
      },
      "cell_type": "code",
      "source": [
        "#filename=\"../input/dogss-test/images.jpg\"\n",
        "filename=\"../input/catsdogs/c3.jpg\"\n",
        "result=predict_images(filename)\n",
        "if(result==0.):\n",
        "    print(\"cat\")\n",
        "else :\n",
        "    print(\"dog\")"
      ],
      "execution_count": null,
      "outputs": []
    },
    {
      "metadata": {
        "trusted": true,
        "id": "qWUgyuldKf63"
      },
      "cell_type": "code",
      "source": [
        "filename=\"../input/catsdogs/c6.jpg\"\n",
        "result=predict_images(filename)\n",
        "if(result==0.):\n",
        "    print(\"cat\")\n",
        "else :\n",
        "    print(\"dog\")"
      ],
      "execution_count": null,
      "outputs": []
    }
  ],
  "metadata": {
    "kernelspec": {
      "language": "python",
      "display_name": "Python 3",
      "name": "python3"
    },
    "language_info": {
      "pygments_lexer": "ipython3",
      "nbconvert_exporter": "python",
      "version": "3.6.4",
      "file_extension": ".py",
      "codemirror_mode": {
        "name": "ipython",
        "version": 3
      },
      "name": "python",
      "mimetype": "text/x-python"
    },
    "colab": {
      "provenance": []
    }
  },
  "nbformat": 4,
  "nbformat_minor": 0
}