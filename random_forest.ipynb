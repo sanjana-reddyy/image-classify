{
  "nbformat": 4,
  "nbformat_minor": 0,
  "metadata": {
    "colab": {
      "provenance": []
    },
    "kernelspec": {
      "name": "python3",
      "display_name": "Python 3"
    },
    "language_info": {
      "name": "python"
    }
  },
  "cells": [
    {
      "cell_type": "markdown",
      "source": [
        "RANDOM FOREST CLASSIFIER"
      ],
      "metadata": {
        "id": "Sh9Nx1ZmXhL2"
      }
    },
    {
      "cell_type": "code",
      "execution_count": null,
      "metadata": {
        "id": "xIESdQBcXeox"
      },
      "outputs": [],
      "source": [
        "import numpy as np\n",
        "Y = np.array(labels)\n",
        "X = np.array(features)"
      ]
    },
    {
      "cell_type": "code",
      "source": [
        "from keras.utils import np_utils\n",
        "Xt = (X - X.mean())/X.std()        #Normalised the data\n",
        "Yt = np_utils.to_categorical(Y)    #Categorical representation\n",
        "Xt = Xt.reshape(8000,30000)"
      ],
      "metadata": {
        "id": "aHqBBhJdXq3Y"
      },
      "execution_count": null,
      "outputs": []
    },
    {
      "cell_type": "code",
      "source": [
        "from sklearn.model_selection import train_test_split\n",
        "x_train,x_test,y_train,y_test = train_test_split(Xt,Yt, test_size = 0.1, random_state = 2)"
      ],
      "metadata": {
        "id": "2Zi1NWvsXwSa"
      },
      "execution_count": null,
      "outputs": []
    },
    {
      "cell_type": "code",
      "source": [
        "from sklearn.ensemble import RandomForestClassifier\n",
        "rmodel = RandomForestClassifier()"
      ],
      "metadata": {
        "id": "t6NKMMjgX5ZH"
      },
      "execution_count": null,
      "outputs": []
    },
    {
      "cell_type": "code",
      "source": [
        "rmodel.fit(x_train,y_train)"
      ],
      "metadata": {
        "id": "SfLZV1gmX9mE"
      },
      "execution_count": null,
      "outputs": []
    },
    {
      "cell_type": "code",
      "source": [
        "print(rmodel.score(x_train,y_train))\n",
        "print(rmodel.score(x_test,y_test))"
      ],
      "metadata": {
        "id": "zywEi8zzYCcg"
      },
      "execution_count": null,
      "outputs": []
    },
    {
      "cell_type": "code",
      "source": [
        "import matplotlib.pyplot as plt\n",
        "plt.imshow(x_test[70].reshape(100,100,3))\n",
        "plt.show()"
      ],
      "metadata": {
        "id": "zuGBtesWYNwZ"
      },
      "execution_count": null,
      "outputs": []
    },
    {
      "cell_type": "code",
      "source": [
        "p = rmodel.predict(x_test[70].reshape(1,30000))\n",
        "if(np.argmax(p)==0):\n",
        "    print(\"cat\")\n",
        "else:\n",
        "    print(\"dog\")"
      ],
      "metadata": {
        "id": "cgkvyGB4YOn6"
      },
      "execution_count": null,
      "outputs": []
    },
    {
      "cell_type": "code",
      "source": [
        "#RANDOMFORESTCLASSIFIER\n",
        "import matplotlib.pyplot as plt\n",
        "for i in range(60,65):\n",
        "    #plt.subplot(40, 40, i+1)\n",
        "    plt.imshow(x_test[i+1].reshape(100,100,3))\n",
        "\n",
        "    p = rmodel.predict(x_test[i+1].reshape(1,30000))\n",
        "    #plt.tight_layout()\n",
        "    plt.show()\n",
        "\n",
        "    if(np.argmax(p)==0):\n",
        "        #plt.xlabel(x_test[i+1] + '(' + \"{}\".format(cat) + ')' )\n",
        "        print(\"cat\")\n",
        "    else:\n",
        "        #plt.xlabel(filename + '(' + \"{}\".format(dog) + ')' )\n",
        "        print(\"dog\")\n",
        "\n",
        "\n",
        "#np.argmax(p)"
      ],
      "metadata": {
        "id": "66WUPd58YRBm"
      },
      "execution_count": null,
      "outputs": []
    },
    {
      "cell_type": "code",
      "source": [
        "filename=\"../input/dogss-test/images.jpg\"\n",
        "img = load_img(filename, target_size=(100, 100))\n",
        "plt.imshow(img)\n",
        "plt.show()\n",
        "img = img_to_array(img)\n",
        "\n",
        "p = rmodel.predict(img.reshape(1,30000))\n",
        "if(np.argmax(p)==0):\n",
        "    print(\"cat\")\n",
        "else:\n",
        "    print(\"dog\")"
      ],
      "metadata": {
        "id": "Ro3Iwep0YoFE"
      },
      "execution_count": null,
      "outputs": []
    }
  ]
}